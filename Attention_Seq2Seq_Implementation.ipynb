{
 "cells": [
  {
   "cell_type": "markdown",
   "metadata": {
    "id": "IvNSZXNkkOkO"
   },
   "source": [
    "1. Download the **Italian** to **English** translation dataset from <a href=\"http://www.manythings.org/anki/ita-eng.zip\">here</a>\n",
    "\n",
    "2. You will find **ita.txt** file in that ZIP, \n",
    "you can read that data and preprocess that data this way only: \n",
    "<img src='https://i.imgur.com/z0j79Jf.png'>    \n",
    "    \n",
    "\n",
    "3. Use BLEU score as metric to evaluate your model. You can use any loss function you need."
   ]
  },
  {
   "cell_type": "markdown",
   "metadata": {
    "id": "3k_AlAuKJqVA"
   },
   "source": [
    "<font color='blue'>**Load the data**</font>"
   ]
  },
  {
   "cell_type": "code",
   "execution_count": null,
   "metadata": {
    "colab": {
     "base_uri": "https://localhost:8080/",
     "height": 255
    },
    "id": "fU80Ao-AGaob",
    "outputId": "3e7a86ff-9854-4780-8cc2-64a6c239d80a"
   },
   "outputs": [
    {
     "name": "stdout",
     "output_type": "stream",
     "text": [
      "--2020-09-21 08:07:31--  http://www.manythings.org/anki/ita-eng.zip\n",
      "Resolving www.manythings.org (www.manythings.org)... 104.24.108.196, 104.24.109.196, 172.67.173.198, ...\n",
      "Connecting to www.manythings.org (www.manythings.org)|104.24.108.196|:80... connected.\n",
      "HTTP request sent, awaiting response... 200 OK\n",
      "Length: 7468237 (7.1M) [application/zip]\n",
      "Saving to: ‘ita-eng.zip’\n",
      "\n",
      "ita-eng.zip         100%[===================>]   7.12M  4.54MB/s    in 1.6s    \n",
      "\n",
      "2020-09-21 08:07:32 (4.54 MB/s) - ‘ita-eng.zip’ saved [7468237/7468237]\n",
      "\n",
      "Archive:  ita-eng.zip\n",
      "  inflating: ita.txt                 \n",
      "  inflating: _about.txt              \n"
     ]
    }
   ],
   "source": [
    "import os\n",
    "if 'ita.txt' not in os.listdir():\n",
    "    !wget http://www.manythings.org/anki/ita-eng.zip\n",
    "    !unzip ita-eng.zip"
   ]
  },
  {
   "cell_type": "code",
   "execution_count": null,
   "metadata": {
    "colab": {
     "base_uri": "https://localhost:8080/",
     "height": 377
    },
    "id": "aWywfQGyiS1c",
    "outputId": "ce686af5-c4ee-44c1-989c-c65269d0d090"
   },
   "outputs": [
    {
     "name": "stdout",
     "output_type": "stream",
     "text": [
      "--2020-09-21 08:07:33--  https://www.dropbox.com/s/ddkmtqz01jc024u/glove.6B.100d.txt\n",
      "Resolving www.dropbox.com (www.dropbox.com)... 162.125.1.1, 2620:100:6016:1::a27d:101\n",
      "Connecting to www.dropbox.com (www.dropbox.com)|162.125.1.1|:443... connected.\n",
      "HTTP request sent, awaiting response... 301 Moved Permanently\n",
      "Location: /s/raw/ddkmtqz01jc024u/glove.6B.100d.txt [following]\n",
      "--2020-09-21 08:07:33--  https://www.dropbox.com/s/raw/ddkmtqz01jc024u/glove.6B.100d.txt\n",
      "Reusing existing connection to www.dropbox.com:443.\n",
      "HTTP request sent, awaiting response... 302 Found\n",
      "Location: https://ucebcc15bdee938723f0111297ad.dl.dropboxusercontent.com/cd/0/inline/A_w1Jfq6fuy_M0Bq1JhSrxtjtv8ojsPfiuRFyxIupXZ7OUkilF42HuNQJbAVMgYqiooj8O-oQ8F-Xyl0VAByAL4bEVH5rvK-jNOFJj1rEcAORHVJcrpOJRLJzBU5dvbEE24/file# [following]\n",
      "--2020-09-21 08:07:33--  https://ucebcc15bdee938723f0111297ad.dl.dropboxusercontent.com/cd/0/inline/A_w1Jfq6fuy_M0Bq1JhSrxtjtv8ojsPfiuRFyxIupXZ7OUkilF42HuNQJbAVMgYqiooj8O-oQ8F-Xyl0VAByAL4bEVH5rvK-jNOFJj1rEcAORHVJcrpOJRLJzBU5dvbEE24/file\n",
      "Resolving ucebcc15bdee938723f0111297ad.dl.dropboxusercontent.com (ucebcc15bdee938723f0111297ad.dl.dropboxusercontent.com)... 162.125.1.15, 2620:100:6016:15::a27d:10f\n",
      "Connecting to ucebcc15bdee938723f0111297ad.dl.dropboxusercontent.com (ucebcc15bdee938723f0111297ad.dl.dropboxusercontent.com)|162.125.1.15|:443... connected.\n",
      "HTTP request sent, awaiting response... 200 OK\n",
      "Length: 347116733 (331M) [text/plain]\n",
      "Saving to: ‘glove.6B.100d.txt’\n",
      "\n",
      "glove.6B.100d.txt   100%[===================>] 331.04M  77.2MB/s    in 4.6s    \n",
      "\n",
      "2020-09-21 08:07:38 (72.7 MB/s) - ‘glove.6B.100d.txt’ saved [347116733/347116733]\n",
      "\n"
     ]
    }
   ],
   "source": [
    "if 'glove.6B.100d.txt' not in os.listdir():\n",
    "    !wget https://www.dropbox.com/s/ddkmtqz01jc024u/glove.6B.100d.txt"
   ]
  },
  {
   "cell_type": "code",
   "execution_count": null,
   "metadata": {
    "id": "v74GbUPliVuw"
   },
   "outputs": [],
   "source": [
    "import matplotlib.pyplot as plt\n",
    "%matplotlib inline\n",
    "# import seaborn as sns\n",
    "import pandas as pd\n",
    "import re\n",
    "import tensorflow as tf\n",
    "from tensorflow.keras.layers import Embedding, LSTM, Dense\n",
    "from tensorflow.keras.models import Model\n",
    "from tensorflow.keras.preprocessing.text import Tokenizer\n",
    "from tensorflow.keras.preprocessing.sequence import pad_sequences\n",
    "\n",
    "from tensorflow.keras.models import save_model, load_model\n",
    "tf.config.run_functions_eagerly(True)\n",
    "import numpy as np\n",
    "from matplotlib import pyplot as plt\n",
    "import matplotlib.ticker as ticker\n",
    "\n",
    "from tqdm.notebook import tqdm\n",
    "\n",
    "# from google.colab import drive\n",
    "# drive.mount('/content/drive')"
   ]
  },
  {
   "cell_type": "code",
   "execution_count": null,
   "metadata": {
    "colab": {
     "base_uri": "https://localhost:8080/",
     "height": 544
    },
    "id": "gL4VAnR1UsdF",
    "outputId": "84186cc8-0dc8-413b-c824-fa0c06fd6d07"
   },
   "outputs": [
    {
     "name": "stdout",
     "output_type": "stream",
     "text": [
      "[name: \"/device:CPU:0\"\n",
      "device_type: \"CPU\"\n",
      "memory_limit: 268435456\n",
      "locality {\n",
      "}\n",
      "incarnation: 15354251413126074276\n",
      ", name: \"/device:XLA_CPU:0\"\n",
      "device_type: \"XLA_CPU\"\n",
      "memory_limit: 17179869184\n",
      "locality {\n",
      "}\n",
      "incarnation: 16090073807451913920\n",
      "physical_device_desc: \"device: XLA_CPU device\"\n",
      ", name: \"/device:XLA_GPU:0\"\n",
      "device_type: \"XLA_GPU\"\n",
      "memory_limit: 17179869184\n",
      "locality {\n",
      "}\n",
      "incarnation: 1766355180172356503\n",
      "physical_device_desc: \"device: XLA_GPU device\"\n",
      ", name: \"/device:GPU:0\"\n",
      "device_type: \"GPU\"\n",
      "memory_limit: 14640891840\n",
      "locality {\n",
      "  bus_id: 1\n",
      "  links {\n",
      "  }\n",
      "}\n",
      "incarnation: 4373390264796627401\n",
      "physical_device_desc: \"device: 0, name: Tesla T4, pci bus id: 0000:00:04.0, compute capability: 7.5\"\n",
      "]\n"
     ]
    }
   ],
   "source": [
    "from tensorflow.python.client import device_lib\n",
    "print(device_lib.list_local_devices())"
   ]
  },
  {
   "cell_type": "code",
   "execution_count": null,
   "metadata": {
    "colab": {
     "base_uri": "https://localhost:8080/",
     "height": 221
    },
    "id": "knpoB_N4iYSZ",
    "outputId": "7ac14db7-83e5-4d0f-ed0c-5e0dc90f2dc8"
   },
   "outputs": [
    {
     "name": "stdout",
     "output_type": "stream",
     "text": [
      "(341554, 2)\n"
     ]
    },
    {
     "data": {
      "text/html": [
       "<div>\n",
       "<style scoped>\n",
       "    .dataframe tbody tr th:only-of-type {\n",
       "        vertical-align: middle;\n",
       "    }\n",
       "\n",
       "    .dataframe tbody tr th {\n",
       "        vertical-align: top;\n",
       "    }\n",
       "\n",
       "    .dataframe thead th {\n",
       "        text-align: right;\n",
       "    }\n",
       "</style>\n",
       "<table border=\"1\" class=\"dataframe\">\n",
       "  <thead>\n",
       "    <tr style=\"text-align: right;\">\n",
       "      <th></th>\n",
       "      <th>english</th>\n",
       "      <th>italian</th>\n",
       "    </tr>\n",
       "  </thead>\n",
       "  <tbody>\n",
       "    <tr>\n",
       "      <th>0</th>\n",
       "      <td>Hi.</td>\n",
       "      <td>Ciao!</td>\n",
       "    </tr>\n",
       "    <tr>\n",
       "      <th>1</th>\n",
       "      <td>Run!</td>\n",
       "      <td>Corri!</td>\n",
       "    </tr>\n",
       "    <tr>\n",
       "      <th>2</th>\n",
       "      <td>Run!</td>\n",
       "      <td>Corra!</td>\n",
       "    </tr>\n",
       "    <tr>\n",
       "      <th>3</th>\n",
       "      <td>Run!</td>\n",
       "      <td>Correte!</td>\n",
       "    </tr>\n",
       "    <tr>\n",
       "      <th>4</th>\n",
       "      <td>Who?</td>\n",
       "      <td>Chi?</td>\n",
       "    </tr>\n",
       "  </tbody>\n",
       "</table>\n",
       "</div>"
      ],
      "text/plain": [
       "  english   italian\n",
       "0     Hi.     Ciao!\n",
       "1    Run!    Corri!\n",
       "2    Run!    Corra!\n",
       "3    Run!  Correte!\n",
       "4    Who?      Chi?"
      ]
     },
     "execution_count": 5,
     "metadata": {
      "tags": []
     },
     "output_type": "execute_result"
    }
   ],
   "source": [
    "with open('ita.txt', 'r', encoding=\"utf8\") as f:\n",
    "    eng=[]\n",
    "    ita=[]\n",
    "    for i in f.readlines():\n",
    "        eng.append(i.split(\"\\t\")[0])\n",
    "        ita.append(i.split(\"\\t\")[1])\n",
    "data = pd.DataFrame(data=list(zip(eng, ita)), columns=['english','italian'])\n",
    "print(data.shape)\n",
    "data.head()"
   ]
  },
  {
   "cell_type": "markdown",
   "metadata": {
    "id": "vmGWTdRmKRph"
   },
   "source": [
    "<font color='blue'>**Preprocess data**</font>"
   ]
  },
  {
   "cell_type": "code",
   "execution_count": null,
   "metadata": {
    "colab": {
     "base_uri": "https://localhost:8080/",
     "height": 204
    },
    "id": "9QqElB_nKZos",
    "outputId": "c6f7a91f-238a-4787-a757-1fc37d152557"
   },
   "outputs": [
    {
     "data": {
      "text/html": [
       "<div>\n",
       "<style scoped>\n",
       "    .dataframe tbody tr th:only-of-type {\n",
       "        vertical-align: middle;\n",
       "    }\n",
       "\n",
       "    .dataframe tbody tr th {\n",
       "        vertical-align: top;\n",
       "    }\n",
       "\n",
       "    .dataframe thead th {\n",
       "        text-align: right;\n",
       "    }\n",
       "</style>\n",
       "<table border=\"1\" class=\"dataframe\">\n",
       "  <thead>\n",
       "    <tr style=\"text-align: right;\">\n",
       "      <th></th>\n",
       "      <th>english</th>\n",
       "      <th>italian</th>\n",
       "    </tr>\n",
       "  </thead>\n",
       "  <tbody>\n",
       "    <tr>\n",
       "      <th>0</th>\n",
       "      <td>hi .</td>\n",
       "      <td>ciao</td>\n",
       "    </tr>\n",
       "    <tr>\n",
       "      <th>1</th>\n",
       "      <td>run !</td>\n",
       "      <td>corri</td>\n",
       "    </tr>\n",
       "    <tr>\n",
       "      <th>2</th>\n",
       "      <td>run !</td>\n",
       "      <td>corra</td>\n",
       "    </tr>\n",
       "    <tr>\n",
       "      <th>3</th>\n",
       "      <td>run !</td>\n",
       "      <td>correte</td>\n",
       "    </tr>\n",
       "    <tr>\n",
       "      <th>4</th>\n",
       "      <td>who ?</td>\n",
       "      <td>chi</td>\n",
       "    </tr>\n",
       "  </tbody>\n",
       "</table>\n",
       "</div>"
      ],
      "text/plain": [
       "  english   italian\n",
       "0   hi .      ciao \n",
       "1  run !     corri \n",
       "2  run !     corra \n",
       "3  run !   correte \n",
       "4  who ?       chi "
      ]
     },
     "execution_count": 6,
     "metadata": {
      "tags": []
     },
     "output_type": "execute_result"
    }
   ],
   "source": [
    "def decontractions(phrase):\n",
    "    \"\"\"decontracted takes text and convert contractions into natural form.\n",
    "     ref: https://stackoverflow.com/questions/19790188/expanding-english-language-contractions-in-python/47091490#47091490\"\"\"\n",
    "    # specific\n",
    "    phrase = re.sub(r\"won\\'t\", \"will not\", phrase)\n",
    "    phrase = re.sub(r\"can\\'t\", \"can not\", phrase)\n",
    "    phrase = re.sub(r\"won\\’t\", \"will not\", phrase)\n",
    "    phrase = re.sub(r\"can\\’t\", \"can not\", phrase)\n",
    "\n",
    "    # general\n",
    "    phrase = re.sub(r\"n\\'t\", \" not\", phrase)\n",
    "    phrase = re.sub(r\"\\'re\", \" are\", phrase)\n",
    "    phrase = re.sub(r\"\\'s\", \" is\", phrase)\n",
    "    phrase = re.sub(r\"\\'d\", \" would\", phrase)\n",
    "    phrase = re.sub(r\"\\'ll\", \" will\", phrase)\n",
    "    phrase = re.sub(r\"\\'t\", \" not\", phrase)\n",
    "    phrase = re.sub(r\"\\'ve\", \" have\", phrase)\n",
    "    phrase = re.sub(r\"\\'m\", \" am\", phrase)\n",
    "\n",
    "    phrase = re.sub(r\"n\\’t\", \" not\", phrase)\n",
    "    phrase = re.sub(r\"\\’re\", \" are\", phrase)\n",
    "    phrase = re.sub(r\"\\’s\", \" is\", phrase)\n",
    "    phrase = re.sub(r\"\\’d\", \" would\", phrase)\n",
    "    phrase = re.sub(r\"\\’ll\", \" will\", phrase)\n",
    "    phrase = re.sub(r\"\\’t\", \" not\", phrase)\n",
    "    phrase = re.sub(r\"\\’ve\", \" have\", phrase)\n",
    "    phrase = re.sub(r\"\\’m\", \" am\", phrase)\n",
    "\n",
    "    return phrase\n",
    "\n",
    "def preprocess(text):\n",
    "    # convert all the text into lower letters\n",
    "    # use this function to remove the contractions: https://gist.github.com/anandborad/d410a49a493b56dace4f814ab5325bbd\n",
    "    # remove all the spacial characters: except space ' '\n",
    "    text = text.lower()\n",
    "    text = decontractions(text)\n",
    "    text = re.sub(r\"([\\w/'+$\\s-]+|[^\\w/'+$\\s-]+)\\s*\", r\"\\1 \", text) # puts a space between punctuations and words\n",
    "    #text = re.sub('[^A-Za-z0-9 ]+', '', text)\n",
    "    return text\n",
    "\n",
    "def preprocess_ita(text):\n",
    "    # convert all the text into lower letters\n",
    "    # remove the words betweent brakets ()\n",
    "    # remove these characters: {'$', ')', '?', '\"', '’', '.',  '°', '!', ';', '/', \"'\", '€', '%', ':', ',', '('}\n",
    "    # replace these spl characters with space: '\\u200b', '\\xa0', '-', '/'\n",
    "    # we have found these characters after observing the data points, feel free to explore more and see if you can do find more\n",
    "    # you are free to do more proprocessing\n",
    "    # note that the model will learn better with better preprocessed data \n",
    "    \n",
    "    text = text.lower()\n",
    "    #text = decontractions(text)\n",
    "    text = re.sub('[$)\\?\"’.°!;\\'€%:,(/]', '', text)\n",
    "    text = re.sub('\\u200b', ' ', text)\n",
    "    text = re.sub('\\xa0', ' ', text)\n",
    "    text = re.sub('-', ' ', text)\n",
    "    text = re.sub(r\"([\\w/'+$\\s-]+|[^\\w/'+$\\s-]+)\\s*\", r\"\\1 \", text) # puts a space between punctuations and words\n",
    "    return text\n",
    "\n",
    "\n",
    "data['english'] = data['english'].apply(preprocess)\n",
    "data['italian'] = data['italian'].apply(preprocess_ita)\n",
    "data.head()"
   ]
  },
  {
   "cell_type": "code",
   "execution_count": null,
   "metadata": {
    "id": "6xZUxx1tiorv"
   },
   "outputs": [],
   "source": [
    "ita_lengths = data['italian'].str.split().apply(len)\n",
    "eng_lengths = data['english'].str.split().apply(len)"
   ]
  },
  {
   "cell_type": "code",
   "execution_count": null,
   "metadata": {
    "colab": {
     "base_uri": "https://localhost:8080/",
     "height": 595
    },
    "id": "6dJWnW1zipHi",
    "outputId": "ad2c03f7-04c9-4f9f-caeb-1d07db06569a"
   },
   "outputs": [
    {
     "name": "stdout",
     "output_type": "stream",
     "text": [
      "0 1.0\n",
      "10 3.0\n",
      "20 4.0\n",
      "30 4.0\n",
      "40 5.0\n",
      "50 5.0\n",
      "60 6.0\n",
      "70 6.0\n",
      "80 7.0\n",
      "90 8.0\n",
      "100 92.0\n",
      "---------------\n",
      "90 8.0\n",
      "91 8.0\n",
      "92 8.0\n",
      "93 9.0\n",
      "94 9.0\n",
      "95 9.0\n",
      "96 9.0\n",
      "97 10.0\n",
      "98 11.0\n",
      "99 12.0\n",
      "100 92.0\n",
      "---------------\n",
      "99.1 12.0\n",
      "99.2 12.0\n",
      "99.3 12.0\n",
      "99.4 13.0\n",
      "99.5 13.0\n",
      "99.6 14.0\n",
      "99.7 15.0\n",
      "99.8 16.0\n",
      "99.9 20.0\n",
      "100 92.0\n"
     ]
    }
   ],
   "source": [
    "for i in range(0,101,10):\n",
    "    print(i,np.percentile(ita_lengths, i))\n",
    "print('-'*15)\n",
    "for i in range(90,101):\n",
    "    print(i,np.percentile(ita_lengths, i))\n",
    "print('-'*15)\n",
    "for i in [99.1,99.2,99.3,99.4,99.5,99.6,99.7,99.8,99.9,100]:\n",
    "    print(i,np.percentile(ita_lengths, i))"
   ]
  },
  {
   "cell_type": "code",
   "execution_count": null,
   "metadata": {
    "colab": {
     "base_uri": "https://localhost:8080/",
     "height": 595
    },
    "id": "FgvQVbXAiqAK",
    "outputId": "6dce939d-c3e3-459a-cbfd-98efbf4aa544"
   },
   "outputs": [
    {
     "name": "stdout",
     "output_type": "stream",
     "text": [
      "0 2.0\n",
      "10 5.0\n",
      "20 5.0\n",
      "30 6.0\n",
      "40 6.0\n",
      "50 7.0\n",
      "60 7.0\n",
      "70 8.0\n",
      "80 8.0\n",
      "90 10.0\n",
      "100 111.0\n",
      "---------------\n",
      "90 10.0\n",
      "91 10.0\n",
      "92 10.0\n",
      "93 10.0\n",
      "94 10.0\n",
      "95 11.0\n",
      "96 11.0\n",
      "97 11.0\n",
      "98 12.0\n",
      "99 13.0\n",
      "100 111.0\n",
      "---------------\n",
      "99.1 14.0\n",
      "99.2 14.0\n",
      "99.3 14.0\n",
      "99.4 15.0\n",
      "99.5 15.0\n",
      "99.6 16.0\n",
      "99.7 17.0\n",
      "99.8 18.0\n",
      "99.9 22.0\n",
      "100 111.0\n"
     ]
    }
   ],
   "source": [
    "for i in range(0,101,10):\n",
    "    print(i,np.percentile(eng_lengths, i))\n",
    "print('-'*15)\n",
    "for i in range(90,101):\n",
    "    print(i,np.percentile(eng_lengths, i))\n",
    "print('-'*15)\n",
    "for i in [99.1,99.2,99.3,99.4,99.5,99.6,99.7,99.8,99.9,100]:\n",
    "    print(i,np.percentile(eng_lengths, i))"
   ]
  },
  {
   "cell_type": "code",
   "execution_count": null,
   "metadata": {
    "colab": {
     "base_uri": "https://localhost:8080/",
     "height": 204
    },
    "id": "_i2xECEuirKS",
    "outputId": "9c9d1516-8ef7-4fc7-b885-658397ddb6bd"
   },
   "outputs": [
    {
     "data": {
      "text/html": [
       "<div>\n",
       "<style scoped>\n",
       "    .dataframe tbody tr th:only-of-type {\n",
       "        vertical-align: middle;\n",
       "    }\n",
       "\n",
       "    .dataframe tbody tr th {\n",
       "        vertical-align: top;\n",
       "    }\n",
       "\n",
       "    .dataframe thead th {\n",
       "        text-align: right;\n",
       "    }\n",
       "</style>\n",
       "<table border=\"1\" class=\"dataframe\">\n",
       "  <thead>\n",
       "    <tr style=\"text-align: right;\">\n",
       "      <th></th>\n",
       "      <th>italian</th>\n",
       "      <th>english_inp</th>\n",
       "      <th>english_out</th>\n",
       "    </tr>\n",
       "  </thead>\n",
       "  <tbody>\n",
       "    <tr>\n",
       "      <th>0</th>\n",
       "      <td>ciao</td>\n",
       "      <td>&lt;start&gt; hi .</td>\n",
       "      <td>hi .  &lt;end&gt;</td>\n",
       "    </tr>\n",
       "    <tr>\n",
       "      <th>1</th>\n",
       "      <td>corri</td>\n",
       "      <td>&lt;start&gt; run !</td>\n",
       "      <td>run !  &lt;end&gt;</td>\n",
       "    </tr>\n",
       "    <tr>\n",
       "      <th>2</th>\n",
       "      <td>corra</td>\n",
       "      <td>&lt;start&gt; run !</td>\n",
       "      <td>run !  &lt;end&gt;</td>\n",
       "    </tr>\n",
       "    <tr>\n",
       "      <th>3</th>\n",
       "      <td>correte</td>\n",
       "      <td>&lt;start&gt; run !</td>\n",
       "      <td>run !  &lt;end&gt;</td>\n",
       "    </tr>\n",
       "    <tr>\n",
       "      <th>4</th>\n",
       "      <td>chi</td>\n",
       "      <td>&lt;start&gt; who ?</td>\n",
       "      <td>who ?  &lt;end&gt;</td>\n",
       "    </tr>\n",
       "  </tbody>\n",
       "</table>\n",
       "</div>"
      ],
      "text/plain": [
       "    italian     english_inp   english_out\n",
       "0     ciao    <start> hi .    hi .  <end>\n",
       "1    corri   <start> run !   run !  <end>\n",
       "2    corra   <start> run !   run !  <end>\n",
       "3  correte   <start> run !   run !  <end>\n",
       "4      chi   <start> who ?   who ?  <end>"
      ]
     },
     "execution_count": 10,
     "metadata": {
      "tags": []
     },
     "output_type": "execute_result"
    }
   ],
   "source": [
    "data['italian_len'] = data['italian'].str.split().apply(len)\n",
    "data = data[data['italian_len'] < 20]\n",
    "\n",
    "data['english_len'] = data['english'].str.split().apply(len)\n",
    "data = data[data['english_len'] < 20]\n",
    "\n",
    "data['english_inp'] = '<start> ' + data['english'].astype(str)\n",
    "data['english_out'] = data['english'].astype(str) + ' <end>'\n",
    "\n",
    "data = data.drop(['english','italian_len','english_len'], axis=1)\n",
    "# only for the first sentence add a token <end> so that we will have <end> in tokenizer\n",
    "data.head()"
   ]
  },
  {
   "cell_type": "markdown",
   "metadata": {
    "id": "NQC0z1bmjxLW"
   },
   "source": [
    "### **Train-Test split**"
   ]
  },
  {
   "cell_type": "code",
   "execution_count": null,
   "metadata": {
    "colab": {
     "base_uri": "https://localhost:8080/",
     "height": 34
    },
    "id": "25Ouhz9NizVu",
    "outputId": "37a44b32-5c9c-4cef-f273-60c68ada0e72"
   },
   "outputs": [
    {
     "name": "stdout",
     "output_type": "stream",
     "text": [
      "(272866, 3) (68217, 3)\n"
     ]
    }
   ],
   "source": [
    "from sklearn.model_selection import train_test_split\n",
    "train, validation = train_test_split(data, test_size=0.2)\n",
    "print(train.shape, validation.shape)\n",
    "\n",
    "# for one sentence we will be adding <end> token so that the tokanizer learns the word <end>\n",
    "# with this we can use only one tokenizer for both encoder output and decoder output\n",
    "train.iloc[0]['english_inp']= str(train.iloc[0]['english_inp'])+' <end>'\n",
    "train.iloc[0]['english_out']= str(train.iloc[0]['english_out'])+' <end>'"
   ]
  },
  {
   "cell_type": "code",
   "execution_count": null,
   "metadata": {
    "colab": {
     "base_uri": "https://localhost:8080/",
     "height": 204
    },
    "id": "yxwPX0oZi9a2",
    "outputId": "eaf0ab8d-b8a9-4cd3-ba48-584be902451b"
   },
   "outputs": [
    {
     "data": {
      "text/html": [
       "<div>\n",
       "<style scoped>\n",
       "    .dataframe tbody tr th:only-of-type {\n",
       "        vertical-align: middle;\n",
       "    }\n",
       "\n",
       "    .dataframe tbody tr th {\n",
       "        vertical-align: top;\n",
       "    }\n",
       "\n",
       "    .dataframe thead th {\n",
       "        text-align: right;\n",
       "    }\n",
       "</style>\n",
       "<table border=\"1\" class=\"dataframe\">\n",
       "  <thead>\n",
       "    <tr style=\"text-align: right;\">\n",
       "      <th></th>\n",
       "      <th>italian</th>\n",
       "      <th>english_inp</th>\n",
       "      <th>english_out</th>\n",
       "    </tr>\n",
       "  </thead>\n",
       "  <tbody>\n",
       "    <tr>\n",
       "      <th>280488</th>\n",
       "      <td>la mappa mi aiutò a orientarmi</td>\n",
       "      <td>&lt;start&gt; the map helped me to orient myself .  ...</td>\n",
       "      <td>the map helped me to orient myself .  &lt;end&gt; &lt;end&gt;</td>\n",
       "    </tr>\n",
       "    <tr>\n",
       "      <th>140206</th>\n",
       "      <td>che stai facendo tom</td>\n",
       "      <td>&lt;start&gt; what are you doing , tom ?</td>\n",
       "      <td>what are you doing , tom ?  &lt;end&gt;</td>\n",
       "    </tr>\n",
       "    <tr>\n",
       "      <th>55397</th>\n",
       "      <td>siete liberi di andare</td>\n",
       "      <td>&lt;start&gt; you are free to go .</td>\n",
       "      <td>you are free to go .  &lt;end&gt;</td>\n",
       "    </tr>\n",
       "    <tr>\n",
       "      <th>270174</th>\n",
       "      <td>voglio imparare a suonare il flauto</td>\n",
       "      <td>&lt;start&gt; i want to learn to play the flute .</td>\n",
       "      <td>i want to learn to play the flute .  &lt;end&gt;</td>\n",
       "    </tr>\n",
       "    <tr>\n",
       "      <th>210767</th>\n",
       "      <td>è tutto quello che vuoi sapere</td>\n",
       "      <td>&lt;start&gt; is that all you want to know ?</td>\n",
       "      <td>is that all you want to know ?  &lt;end&gt;</td>\n",
       "    </tr>\n",
       "  </tbody>\n",
       "</table>\n",
       "</div>"
      ],
      "text/plain": [
       "                                     italian  ...                                        english_out\n",
       "280488       la mappa mi aiutò a orientarmi   ...  the map helped me to orient myself .  <end> <end>\n",
       "140206                 che stai facendo tom   ...                  what are you doing , tom ?  <end>\n",
       "55397                siete liberi di andare   ...                        you are free to go .  <end>\n",
       "270174  voglio imparare a suonare il flauto   ...         i want to learn to play the flute .  <end>\n",
       "210767       è tutto quello che vuoi sapere   ...              is that all you want to know ?  <end>\n",
       "\n",
       "[5 rows x 3 columns]"
      ]
     },
     "execution_count": 12,
     "metadata": {
      "tags": []
     },
     "output_type": "execute_result"
    }
   ],
   "source": [
    "train.head()"
   ]
  },
  {
   "cell_type": "code",
   "execution_count": null,
   "metadata": {
    "colab": {
     "base_uri": "https://localhost:8080/",
     "height": 204
    },
    "id": "ba59ll7bi-5m",
    "outputId": "4a52549a-7ae0-4c5f-c898-99193f657575"
   },
   "outputs": [
    {
     "data": {
      "text/html": [
       "<div>\n",
       "<style scoped>\n",
       "    .dataframe tbody tr th:only-of-type {\n",
       "        vertical-align: middle;\n",
       "    }\n",
       "\n",
       "    .dataframe tbody tr th {\n",
       "        vertical-align: top;\n",
       "    }\n",
       "\n",
       "    .dataframe thead th {\n",
       "        text-align: right;\n",
       "    }\n",
       "</style>\n",
       "<table border=\"1\" class=\"dataframe\">\n",
       "  <thead>\n",
       "    <tr style=\"text-align: right;\">\n",
       "      <th></th>\n",
       "      <th>italian</th>\n",
       "      <th>english_inp</th>\n",
       "      <th>english_out</th>\n",
       "    </tr>\n",
       "  </thead>\n",
       "  <tbody>\n",
       "    <tr>\n",
       "      <th>10538</th>\n",
       "      <td>siamo adulti</td>\n",
       "      <td>&lt;start&gt; we are adults .</td>\n",
       "      <td>we are adults .  &lt;end&gt;</td>\n",
       "    </tr>\n",
       "    <tr>\n",
       "      <th>309181</th>\n",
       "      <td>io penso che il vostro inglese sia migliorato ...</td>\n",
       "      <td>&lt;start&gt; i think your english has improved a lo...</td>\n",
       "      <td>i think your english has improved a lot .  &lt;end&gt;</td>\n",
       "    </tr>\n",
       "    <tr>\n",
       "      <th>244856</th>\n",
       "      <td>tutti gli uomini sono uguali secondo la legge</td>\n",
       "      <td>&lt;start&gt; all men are equal under the law .</td>\n",
       "      <td>all men are equal under the law .  &lt;end&gt;</td>\n",
       "    </tr>\n",
       "    <tr>\n",
       "      <th>10754</th>\n",
       "      <td>mi auguri buona fortuna</td>\n",
       "      <td>&lt;start&gt; wish me luck .</td>\n",
       "      <td>wish me luck .  &lt;end&gt;</td>\n",
       "    </tr>\n",
       "    <tr>\n",
       "      <th>47555</th>\n",
       "      <td>io dormii fino allalba</td>\n",
       "      <td>&lt;start&gt; i slept till dawn .</td>\n",
       "      <td>i slept till dawn .  &lt;end&gt;</td>\n",
       "    </tr>\n",
       "  </tbody>\n",
       "</table>\n",
       "</div>"
      ],
      "text/plain": [
       "                                                  italian  ...                                       english_out\n",
       "10538                                       siamo adulti   ...                            we are adults .  <end>\n",
       "309181  io penso che il vostro inglese sia migliorato ...  ...  i think your english has improved a lot .  <end>\n",
       "244856     tutti gli uomini sono uguali secondo la legge   ...          all men are equal under the law .  <end>\n",
       "10754                            mi auguri buona fortuna   ...                             wish me luck .  <end>\n",
       "47555                             io dormii fino allalba   ...                        i slept till dawn .  <end>\n",
       "\n",
       "[5 rows x 3 columns]"
      ]
     },
     "execution_count": 13,
     "metadata": {
      "tags": []
     },
     "output_type": "execute_result"
    }
   ],
   "source": [
    "validation.head()"
   ]
  },
  {
   "cell_type": "markdown",
   "metadata": {
    "id": "925r-E4VjLy3"
   },
   "source": [
    "### **Tokenizer**"
   ]
  },
  {
   "cell_type": "code",
   "execution_count": null,
   "metadata": {
    "id": "he5UYd1zjNIN"
   },
   "outputs": [],
   "source": [
    "tknizer_ita = Tokenizer()\n",
    "tknizer_ita.fit_on_texts(train['italian'].values)\n",
    "#tknizer_eng = Tokenizer(filters='!\"#$%&()*+,-./:;=?@[\\\\]^_`{|}~\\t\\n')  # Notice this does not have '<' and '>' characters in the filter\n",
    "tknizer_eng = Tokenizer(filters='!\"#$%&()*+-/:;=@[\\\\]^_`{|}~\\t\\n')  # Notice this does not have '<' and '>' characters in the filter. Also removed punctuations like comma, full stop and question mark from filter\n",
    "tknizer_eng.fit_on_texts(train['english_inp'].values)"
   ]
  },
  {
   "cell_type": "code",
   "execution_count": null,
   "metadata": {
    "id": "TmyV16YLKZw-"
   },
   "outputs": [],
   "source": [
    "# import re\n",
    "# from tensorflow.keras.preprocessing.text import Tokenizer\n",
    "# tknizer_abc = Tokenizer(filters='!\"#$%&()*+-/:;=@[\\\\]^_`{|}~\\t\\n')\n",
    "# abc_input = ['chintan , # dave . ', u\"machine learning's the future? \"]\n",
    "# for a in range(len(abc_input)):\n",
    "#     abc_input[a] = re.sub(r\"([\\w/'+$\\s-]+|[^\\w/'+$\\s-]+)\\s*\", r\"\\1 \", abc_input[a])\n",
    "# print(abc_input)\n",
    "# tknizer_abc.fit_on_texts(abc_input)\n",
    "# tknizer_abc.word_index.keys()"
   ]
  },
  {
   "cell_type": "code",
   "execution_count": null,
   "metadata": {
    "colab": {
     "base_uri": "https://localhost:8080/",
     "height": 51
    },
    "id": "0hxgKWo_jUc7",
    "outputId": "82068757-4005-4e3f-9a92-1eb54003f5eb"
   },
   "outputs": [
    {
     "name": "stdout",
     "output_type": "stream",
     "text": [
      "12602\n",
      "26134\n"
     ]
    }
   ],
   "source": [
    "vocab_size_eng=len(tknizer_eng.word_index.keys())\n",
    "print(vocab_size_eng)\n",
    "vocab_size_ita=len(tknizer_ita.word_index.keys())\n",
    "print(vocab_size_ita)"
   ]
  },
  {
   "cell_type": "markdown",
   "metadata": {
    "id": "pPCjgxJ_jcGl"
   },
   "source": [
    "### **Embeddings for English sentences**"
   ]
  },
  {
   "cell_type": "code",
   "execution_count": null,
   "metadata": {
    "id": "Gtl-R8DNjf_t"
   },
   "outputs": [],
   "source": [
    "embeddings_index = dict()\n",
    "f = open('glove.6B.100d.txt')\n",
    "for line in f:\n",
    "    values = line.split()\n",
    "    word = values[0]\n",
    "    coefs = np.asarray(values[1:])\n",
    "    embeddings_index[word] = coefs\n",
    "f.close()\n",
    "\n",
    "embedding_matrix = np.zeros((vocab_size_eng+1, 100))\n",
    "for word, i in tknizer_eng.word_index.items():\n",
    "    embedding_vector = embeddings_index.get(word)\n",
    "    if embedding_vector is not None:\n",
    "        embedding_matrix[i] = embedding_vector"
   ]
  },
  {
   "cell_type": "code",
   "execution_count": null,
   "metadata": {
    "colab": {
     "base_uri": "https://localhost:8080/",
     "height": 34
    },
    "id": "jgBV9QOpjopW",
    "outputId": "e838f15f-5b2d-49e5-d799-109cfe7cfe25"
   },
   "outputs": [
    {
     "data": {
      "text/plain": [
       "(12603, 100)"
      ]
     },
     "execution_count": 18,
     "metadata": {
      "tags": []
     },
     "output_type": "execute_result"
    }
   ],
   "source": [
    "embedding_matrix.shape"
   ]
  },
  {
   "cell_type": "code",
   "execution_count": null,
   "metadata": {
    "colab": {
     "base_uri": "https://localhost:8080/",
     "height": 34
    },
    "id": "K98w92LSHjLd",
    "outputId": "ce81031f-f800-49ee-f883-56e230104be7"
   },
   "outputs": [
    {
     "data": {
      "text/plain": [
       "(1, 10004)"
      ]
     },
     "execution_count": 19,
     "metadata": {
      "tags": []
     },
     "output_type": "execute_result"
    }
   ],
   "source": [
    "tknizer_eng.word_index['<start>'], tknizer_eng.word_index['<end>']"
   ]
  },
  {
   "cell_type": "markdown",
   "metadata": {
    "id": "yZhX3K9GLOfJ"
   },
   "source": [
    "# Machine Translation Using Attention Mechanism"
   ]
  },
  {
   "cell_type": "markdown",
   "metadata": {
    "id": "Q3d7GeBMGbsJ"
   },
   "source": [
    "* To implement an Encoder and Decoder architecture with attention\n",
    "* In Global attention, there are 3 types of scoring functions.\n",
    " I have created 3 models for each scoring function**\n",
    "<img src='https://i.imgur.com/iD2jZo3.png'>\n",
    "\n",
    "    * In model 1 implemnted \"dot\" score function\n",
    "    * In model 2 implemnted \"general\" score function\n",
    "    * In model 3 implemnted \"concat\" score function.<br>\n",
    "\n",
    "* Resources:\n",
    "    a. <a href=\"https://jalammar.github.io/visualizing-neural-machine-translation-mechanics-of-seq2seq-models-with-attention/\">Resource 1</a>\n",
    "    b. <a href=\"https://www.tensorflow.org/tutorials/text/nmt_with_attention\">Resource 2</a>\n",
    "    c. <a href=\"https://stackoverflow.com/questions/44238154/what-is-the-difference-between-luong-attention-and-bahdanau-attention#:~:text=Luong%20attention%20used%20top%20hidden,hidden%20state%20at%20time%20t.\">Resource 3</a>\n",
    "    "
   ]
  },
  {
   "cell_type": "markdown",
   "metadata": {
    "id": "PU4KIsGxLOfK"
   },
   "source": [
    "## <font color='blue'>**Implement custom encoder decoder and attention layers**</font>"
   ]
  },
  {
   "cell_type": "markdown",
   "metadata": {
    "id": "TMm3ADQDLOfK"
   },
   "source": [
    "<font color='blue'>**Encoder**</font>"
   ]
  },
  {
   "cell_type": "code",
   "execution_count": null,
   "metadata": {
    "id": "Lx_5NA24KzRp"
   },
   "outputs": [],
   "source": [
    "class Encoder(tf.keras.Model):\n",
    "    '''\n",
    "    Encoder model -- That takes a input sequence and returns output sequence\n",
    "    '''\n",
    "\n",
    "    def __init__(self, inp_vocab_size, embedding_size, lstm_size, input_length):\n",
    "        super().__init__()\n",
    "        self.enc_units= lstm_size\n",
    "        self.lstm_output=0\n",
    "        self.lstm_state_h=0\n",
    "        self.lstm_state_c=0\n",
    "\n",
    "        self.embedding = Embedding(input_dim=inp_vocab_size, output_dim=embedding_size, input_length=input_length,\n",
    "                           mask_zero=True )\n",
    "        self.lstm = LSTM(lstm_size, return_state=True, return_sequences=True )\n",
    "\n",
    "\n",
    "    def call(self, input_sequence, states):\n",
    "        '''\n",
    "        This function takes a sequence input and the initial states of the encoder.\n",
    "        Pass the input_sequence input to the Embedding layer, Pass the embedding layer ouput to encoder_lstm\n",
    "        returns -- All encoder_outputs, last time steps hidden and cell state\n",
    "        '''\n",
    "        input_embedd = self.embedding(input_sequence)\n",
    "        self.lstm_output, self.lstm_state_h, self.lstm_state_c = self.lstm(input_embedd, initial_state=states)\n",
    "        return self.lstm_output, self.lstm_state_h, self.lstm_state_c\n",
    "    \n",
    "    def initialize_states(self, batch_size):\n",
    "        '''\n",
    "        Given a batch size it will return intial hidden state and intial cell state.\n",
    "        If batch size is 32- Hidden state is zeros of size [32,lstm_units], cell state zeros is of size [32,lstm_units]\n",
    "        '''\n",
    "        int_state_h = tf.zeros((batch_size, self.enc_units) )\n",
    "        int_state_c = tf.zeros((batch_size, self.enc_units) )\n",
    "        return int_state_h, int_state_c"
   ]
  },
  {
   "cell_type": "markdown",
   "metadata": {
    "id": "lXn278lhLYRM"
   },
   "source": [
    "<font color='blue'>**Attention**</font>"
   ]
  },
  {
   "cell_type": "code",
   "execution_count": null,
   "metadata": {
    "id": "6-9wIQISa13p"
   },
   "outputs": [],
   "source": [
    "class Attention(tf.keras.layers.Layer):\n",
    "    '''\n",
    "        Class that calculates score based on the scoring_function using Bahdanu attention mechanism.\n",
    "    '''\n",
    "    def __init__(self, scoring_function, att_units):\n",
    "        super().__init__()\n",
    "        self.lstm_size_e = att_units\n",
    "        self.lstm_size_d = att_units\n",
    "        self.scoring_function = scoring_function\n",
    " \n",
    "        # Please go through the reference notebook and research paper to complete the scoring functions\n",
    "        if self.scoring_function=='dot':\n",
    "            # Intialize variables needed for Dot score function here\n",
    "            pass\n",
    "        if self.scoring_function == 'general':\n",
    "            # Intialize variables needed for General score function here\n",
    "            pass\n",
    "        elif self.scoring_function == 'concat':\n",
    "            # Intialize variables needed for Concat score function here\n",
    "            pass\n",
    " \n",
    " \n",
    "    def build(self, input_shape):\n",
    "        if self.scoring_function == 'general':\n",
    "            self.w_general = self.add_weight(shape=(self.lstm_size_e, self.lstm_size_d), initializer='random_normal', trainable=True, name='w_gen')\n",
    "        elif self.scoring_function == 'concat':\n",
    "            k=128\n",
    "            self.w_concat_e = self.add_weight(shape=(self.lstm_size_e, k), initializer='random_normal', trainable=True, name='w_concat_1') # To be multiplied with encoder\n",
    "            self.w_concat_d = self.add_weight(shape=(self.lstm_size_d, k), initializer='random_normal', trainable=True, name='w_concat_2') # To be multiplied with decoder\n",
    "            self.w_v = self.add_weight(shape=(k, 1), initializer='random_normal', trainable=True, name='w_concat_v') # To be finally multiplied with tanh\n",
    " \n",
    " \n",
    "    def call(self, decoder_hidden_state, encoder_output):\n",
    "        '''\n",
    "            Attention mechanism takes two inputs current step -- decoder_hidden_state and all the encoder_outputs.\n",
    "            * Based on the scoring function we will find the score or similarity between decoder_hidden_state and encoder_output.\n",
    "            Multiply the score function with your encoder_outputs to get the context vector.\n",
    "            Function returns context vector and attention weights(softmax - scores)\n",
    "        '''\n",
    " \n",
    "        if self.scoring_function == 'dot':\n",
    "            # Implement Dot score function here\n",
    "            # encoder_output = [batch_size, input_length, att_units]\n",
    "            # decoder_hidden_state = [batch_size, att_units]\n",
    " \n",
    "            decoder_hidden_state = tf.expand_dims(decoder_hidden_state, axis=2) # [batch_size, att_units, 1]\n",
    " \n",
    "            sim = tf.matmul(encoder_output, decoder_hidden_state) # Similarity values\n",
    "            # Now we have to pass this sim values to a softmax layer. As a result we will get the alpha values.\n",
    "            \n",
    "            sim = tf.squeeze(sim, axis=2)   # [batch_size,input_length]\n",
    "            alphas = Dense(encoder_output.shape[1], activation='softmax')(sim) # encoder_output.shape[1] is input_seq_length i.e. the num of enc hidden states\n",
    "            alphas = tf.expand_dims(alphas, axis=2)\n",
    "            # Now we have to multiply these alphas values to the all the encoder timesteps to get the context vectors\n",
    " \n",
    "            encoder_output = tf.transpose(encoder_output, perm=[0,2,1])\n",
    "            context_vectors = tf.matmul(encoder_output, alphas) # [batch_size, att_units, 1]\n",
    "            context_vectors = tf.squeeze(context_vectors, axis=2)   # [batch_size, att_units]\n",
    "            return context_vectors, alphas\n",
    "            \"\"\"encoder_output shape= (16, 10, 32)\n",
    "            decoder_hidden shape= (16, 32, 1)\n",
    "            sim shape= (16, 10)\n",
    "            alphas shape= (16, 10, 1)\n",
    "            context vecotr shape= (16, 32)\"\"\"\n",
    "        elif self.scoring_function == 'general':\n",
    "            # Implement General score function here\n",
    "            # encoder_output = [batch_size, input_length, att_units]\n",
    "            # decoder_hidden_state = [batch_size, att_units]\n",
    "            \n",
    "            decoder_hidden_state = tf.expand_dims(decoder_hidden_state, axis=2)\n",
    "            \n",
    "            # self.w_general = [enc_att_units, dec_att_units]\n",
    "            sim = tf.matmul(tf.matmul(encoder_output, self.w_general), decoder_hidden_state)\n",
    "            sim = tf.squeeze(sim, axis=2)\n",
    " \n",
    "            alphas = Dense(encoder_output.shape[1], activation='softmax')(sim)\n",
    "            alphas = tf.expand_dims(alphas, axis=2)\n",
    "            # Now we have to multiply these alphas values to the all the encoder timesteps to get the context vectors\n",
    " \n",
    "            encoder_output = tf.transpose(encoder_output, perm=[0,2,1])\n",
    "            context_vectors = tf.matmul(encoder_output, alphas)\n",
    "            context_vectors = tf.squeeze(context_vectors, axis=2)\n",
    "            return context_vectors, alphas\n",
    "        elif self.scoring_function == 'concat':\n",
    "            # Implement General score function here\n",
    "            # encoder_output = [batch_size, input_length, att_units]\n",
    "            # decoder_hidden_state = [batch_size, att_units]\n",
    "            \n",
    "            decoder_hidden_state = tf.expand_dims(decoder_hidden_state, axis=1)\n",
    "            \n",
    "            # self.w_concat_e = [enc_att_units, k]\n",
    "            # self.w_concat_d = [dec_att_units, k]\n",
    "            # self.w_v = [k,1]\n",
    "            mat_mul_1 = tf.matmul(encoder_output, self.w_concat_e)\n",
    "            mat_mul_2 = tf.matmul(decoder_hidden_state, self.w_concat_d)\n",
    "            mat_mul_added = mat_mul_1 + mat_mul_2\n",
    "            tanh_ = tf.math.tanh(mat_mul_added)\n",
    "            sim = tf.matmul(tanh_, self.w_v)\n",
    "            sim = tf.squeeze(sim, axis=2)\n",
    " \n",
    "            alphas = Dense(encoder_output.shape[1], activation='softmax')(sim)\n",
    "            alphas = tf.expand_dims(alphas, axis=2)\n",
    "            # Now we have to multiply these alphas values to the all the encoder timesteps to get the context vectors\n",
    "            \n",
    "            encoder_output = tf.transpose(encoder_output, perm=[0,2,1])\n",
    "            context_vectors = tf.matmul(encoder_output, alphas)\n",
    "            context_vectors = tf.squeeze(context_vectors, axis=2)\n",
    "            return context_vectors, alphas\n",
    "            \"\"\"encoder_output shape= (16, 10, 32)\n",
    "            decoder_hidden shape= (16, 1, 32)\n",
    "            mat mul added shape= (16, 10, 32)\n",
    "            tanh_ shape= (16, 10, 32)\n",
    "            sim shape= (16, 10)\n",
    "            alphas shape= (16, 10, 1)\n",
    "            context vecotr shape= (16, 32)\"\"\""
   ]
  },
  {
   "cell_type": "markdown",
   "metadata": {
    "id": "ic-FNEbfL2DN"
   },
   "source": [
    "<font color='blue'>**OneStepDecoder**</font>"
   ]
  },
  {
   "cell_type": "code",
   "execution_count": null,
   "metadata": {
    "id": "Kc8m7lmOL097"
   },
   "outputs": [],
   "source": [
    "class One_Step_Decoder(tf.keras.Model):\n",
    "    def __init__(self, out_vocab_size, embedding_size, input_length, dec_units ,score_fun ,att_units):\n",
    "        super().__init__()\n",
    "        \"\"\"self.att_units = att_units\n",
    "        self.score_fun = score_fun\n",
    "        self.vocab_size = out_vocab_size\n",
    "        self.embedding_dim = embedding_size\n",
    "        self.dec_units = dec_units\n",
    "        self.input_length = input_length\"\"\"\n",
    "        \n",
    "        # Initialize decoder embedding layer, LSTM and any other objects needed\n",
    "        #, weights=[embedding_matrix]\n",
    "        self.embedding = Embedding(input_dim=out_vocab_size, output_dim=embedding_size, input_length=input_length, mask_zero=True, weights=[embedding_matrix], trainable=False)\n",
    "        self.lstm = LSTM(dec_units, return_sequences=True, return_state=True )\n",
    "        self.attention = Attention(score_fun, att_units)\n",
    "        #self.dense_softmax = Dense(out_vocab_size, activation='softmax' )  # DO NOT DO SOFTMAX HERE!!\n",
    "        self.dense = Dense(out_vocab_size)\n",
    "     \n",
    "    \n",
    "    def call(self, input_to_decoder, encoder_output, state_h, state_c):\n",
    "        '''\n",
    "            One step decoder mechanisim step by step:\n",
    "            A. Pass the input_to_decoder to the embedding layer and then get the output(batch_size,1,embedding_dim)\n",
    "            B. Using the encoder_output and decoder hidden state, compute the context vector.\n",
    "            C. Concat the context vector with the step A output\n",
    "            D. Pass the Step-C output to LSTM/GRU and get the decoder output and states(hidden and cell state)\n",
    "            E. Pass the decoder output to dense layer(vocab size) and store the result into output.\n",
    "            F. Return the states from step D, output from Step E, attention weights from Step -B\n",
    "        '''\n",
    "        context_vector, attention_weights = self.attention(state_h, encoder_output)\n",
    "        target_embedd = self.embedding(input_to_decoder)    # [batch_size, 1, embedding_dim]. Here the 1 is the timestep, because remember this is 'one step decoder'\n",
    "        \n",
    "        # Concatenate context vector and embedding output\n",
    "        context_vector_ = tf.expand_dims(context_vector, axis=1)    # [batch_size, 1, embedding_dim]\n",
    "        concate = tf.concat([target_embedd, context_vector_], axis=-1) \n",
    "        lstm_output, state_h_out, state_c_out  = self.lstm(concate, initial_state=[state_h, state_c])\n",
    "\n",
    "        # Pass the lstm_output to a softmax layer\n",
    "        lstm_output = tf.squeeze(lstm_output, axis=1)\n",
    "        dense_output = self.dense(lstm_output)\n",
    "        return dense_output, state_h_out, state_c_out, attention_weights, context_vector\n",
    "        \"\"\"context_vector shape= (32, 16)\n",
    "        input_to_decoder= (32, 1)\n",
    "        embedd shape= (32, 1, 12)\n",
    "        concate shape= (32, 1, 28)\n",
    "        lstm_output shape= (32, 1, 16)\n",
    "        lstm_output to Dense shape= (32, 16)\n",
    "        state_h_out shape= (32, 16)\n",
    "        state_c_out shape= (32, 16)\"\"\""
   ]
  },
  {
   "cell_type": "markdown",
   "metadata": {
    "id": "6FHrurjUMGAi"
   },
   "source": [
    "<font color='blue'>**Decoder**</font>"
   ]
  },
  {
   "cell_type": "code",
   "execution_count": null,
   "metadata": {
    "id": "NV-x31rj6Hc4"
   },
   "outputs": [],
   "source": [
    "class Decoder(tf.keras.Model):\n",
    "    def __init__(self, out_vocab_size, embedding_dim, input_length, dec_units, score_fun, att_units):\n",
    "        #Intialize necessary variables and create an object from the class onestepdecoder\n",
    "        super().__init__()\n",
    "\n",
    "        self.input_length = input_length\n",
    "        \"\"\"self.vocab_size = out_vocab_size\n",
    "        self.embedding_dim = embedding_dim\n",
    "        self.dec_units = dec_units\n",
    "        self.score_fun = score_fun\n",
    "        self.att_units = att_units\"\"\"\n",
    "\n",
    "        self.one_step_decoder = One_Step_Decoder(out_vocab_size, embedding_dim, input_length, dec_units, score_fun, att_units)\n",
    "\n",
    "\n",
    "    def call(self, input_to_decoder, encoder_output, decoder_hidden_state, decoder_cell_state):\n",
    "        #Initialize an empty Tensor array, that will store the outputs at each and every time step\n",
    "        #Create a tensor array as shown in the reference notebook\n",
    "        \n",
    "        #Iterate till the length of the decoder input\n",
    "            # Call onestepdecoder for each token in decoder_input\n",
    "            # Store the output in tensorarray\n",
    "        # Return the tensor array\n",
    "        \n",
    "        # input_to_decoder = [batch_size, input_seq_length]\n",
    "        all_outputs = tf.TensorArray(dtype='float32', size=self.input_length)\n",
    "        for timestep in range(self.input_length):\n",
    "            output, decoder_hidden_state, decoder_cell_state, attention_weights, context_vector = self.one_step_decoder(input_to_decoder[:, timestep:timestep+1], encoder_output, decoder_hidden_state, decoder_cell_state)\n",
    "            # append the output to the all_outputs and at the end return it.\n",
    "            all_outputs = all_outputs.write(timestep, output)\n",
    "        # each output is of shape [batch_size, out_vocab_size]\n",
    "        all_outputs = tf.transpose(all_outputs.stack(), perm=[1,0,2])\n",
    "        return all_outputs"
   ]
  },
  {
   "cell_type": "markdown",
   "metadata": {
    "id": "fC1T1EOoMTqC"
   },
   "source": [
    "<font color='blue'>**Encoder Decoder model**</font>"
   ]
  },
  {
   "cell_type": "code",
   "execution_count": null,
   "metadata": {
    "id": "woOvuMq48G15"
   },
   "outputs": [],
   "source": [
    "GLOBAL_BATCH_SIZE = 1024"
   ]
  },
  {
   "cell_type": "code",
   "execution_count": null,
   "metadata": {
    "id": "FfqBIe20MT3D"
   },
   "outputs": [],
   "source": [
    "class encoder_decoder(tf.keras.Model):\n",
    "    def __init__(self, vocab_size_ita, vocab_size_eng, encoder_inputs_length, decoder_inputs_length, embedding_dim, score_fun, att_units):\n",
    "        super().__init__()\n",
    "        \"\"\"self.score_fun = score_fun\n",
    "        self.att_units = att_units\n",
    "        self.embedding_dim = embedding_dim\n",
    "        self.encoder_inputs_length = encoder_inputs_length\n",
    "        self.decoder_inputs_length = decoder_inputs_length\n",
    "\n",
    "        self.vocab_size_ita = vocab_size_ita\n",
    "        self.vocab_size_eng = vocab_size_eng\"\"\"\n",
    "\n",
    "        #Intialize objects from encoder decoder\n",
    "        self.encoder = Encoder(inp_vocab_size=vocab_size_ita+1, embedding_size=embedding_dim, lstm_size=att_units, input_length=encoder_inputs_length)\n",
    "        self.decoder = Decoder(out_vocab_size=vocab_size_eng+1, embedding_dim=embedding_dim, input_length=decoder_inputs_length, dec_units=att_units, score_fun=score_fun, att_units=att_units)\n",
    "\n",
    "\n",
    "    def call(self, data):\n",
    "        # Intialize encoder states, Pass the encoder_sequence to the embedding layer\n",
    "        # Decoder initial states are encoder final states, Initialize it accordingly\n",
    "        # Pass the decoder sequence,encoder_output,decoder states to Decoder\n",
    "        # return the decoder output\n",
    "        input_sequence, input_to_decoder = data[0], data[1]\n",
    "        # input_sequence = [batch_size, input_length]\n",
    "        initial_state=self.encoder.initialize_states(batch_size=GLOBAL_BATCH_SIZE)\n",
    "        encoder_output, enc_state_h, enc_state_c = self.encoder(input_sequence, initial_state)\n",
    "        all_outputs = self.decoder(input_to_decoder, encoder_output, enc_state_h, enc_state_c)\n",
    "        # all_outputs = [batch_size, input_length, out_vocab_size]\n",
    "        return all_outputs"
   ]
  },
  {
   "cell_type": "markdown",
   "metadata": {
    "id": "WVRxB-FDMJWL"
   },
   "source": [
    "<font color='blue'>**Custom loss function**</font>"
   ]
  },
  {
   "cell_type": "code",
   "execution_count": null,
   "metadata": {
    "id": "eOTjI36LpoRA"
   },
   "outputs": [],
   "source": [
    "# Custom loss function that will not consider the loss for padded zeros\n",
    "# Refer https://www.tensorflow.org/tutorials/text/nmt_with_attention#define_the_optimizer_and_the_loss_function\n",
    "loss_object = tf.keras.losses.SparseCategoricalCrossentropy(from_logits=True, reduction='none')\n",
    "# Below the pred is also called logits\n",
    "def loss_function(real, pred):\n",
    "    mask = tf.math.logical_not(tf.math.equal(real, 0))\n",
    "    loss_ = loss_object(real, pred)\n",
    "\n",
    "    mask = tf.cast(mask, dtype=loss_.dtype)\n",
    "    loss_ *= mask\n",
    "\n",
    "    return tf.reduce_mean(loss_)"
   ]
  },
  {
   "cell_type": "markdown",
   "metadata": {
    "id": "2QlbWAqNNlqe"
   },
   "source": [
    "<font color='blue'>**Training**</font>"
   ]
  },
  {
   "cell_type": "code",
   "execution_count": null,
   "metadata": {
    "id": "N2rXxrRos31-"
   },
   "outputs": [],
   "source": [
    "class Dataset:\n",
    "    def __init__(self, data, tknizer_ita, tknizer_eng, max_len):\n",
    "        self.encoder_inps = data['italian'].values\n",
    "        self.decoder_inps = data['english_inp'].values\n",
    "        self.decoder_outs = data['english_out'].values\n",
    "        self.tknizer_eng = tknizer_eng\n",
    "        self.tknizer_ita = tknizer_ita\n",
    "        self.max_len = max_len\n",
    "\n",
    "    def __getitem__(self, i):\n",
    "        self.encoder_seq = self.tknizer_ita.texts_to_sequences([self.encoder_inps[i]]) # need to pass list of values\n",
    "        self.decoder_inp_seq = self.tknizer_eng.texts_to_sequences([self.decoder_inps[i]])\n",
    "        self.decoder_out_seq = self.tknizer_eng.texts_to_sequences([self.decoder_outs[i]])\n",
    "\n",
    "        self.encoder_seq = pad_sequences(self.encoder_seq, maxlen=self.max_len, dtype='int32', padding='post', truncating='post')\n",
    "        self.decoder_inp_seq = pad_sequences(self.decoder_inp_seq, maxlen=self.max_len, dtype='int32', padding='post', truncating='post')\n",
    "        self.decoder_out_seq = pad_sequences(self.decoder_out_seq, maxlen=self.max_len, dtype='int32', padding='post', truncating='pre')\n",
    "        return self.encoder_seq, self.decoder_inp_seq, self.decoder_out_seq\n",
    "        \n",
    "    def __len__(self): # your model.fit_gen requires this function\n",
    "        return len(self.encoder_inps)\n",
    "\n",
    "\n",
    "class Dataloader(tf.keras.utils.Sequence):\n",
    "    def __init__(self, dataset, batch_size=1):\n",
    "        self.dataset = dataset\n",
    "        self.batch_size = batch_size\n",
    "        self.indexes = np.arange(len(self.dataset.encoder_inps))\n",
    "\n",
    "    def __getitem__(self, i):\n",
    "        start = i * self.batch_size\n",
    "        stop = (i + 1) * self.batch_size\n",
    "        data = []\n",
    "        for j in range(start, stop):\n",
    "            data.append(self.dataset[j])\n",
    "\n",
    "        batch = [np.squeeze(np.stack(samples, axis=1), axis=0) for samples in zip(*data)]\n",
    "        # we are creating data like ([italian, english_inp], english_out) these are already converted into seq\n",
    "        return tuple([[batch[0],batch[1]],batch[2]])\n",
    "\n",
    "    def __len__(self):  # your model.fit_gen requires this function\n",
    "        return len(self.indexes) // self.batch_size\n",
    "\n",
    "    def on_epoch_end(self):\n",
    "        self.indexes = np.random.permutation(self.indexes)"
   ]
  },
  {
   "cell_type": "code",
   "execution_count": null,
   "metadata": {
    "colab": {
     "base_uri": "https://localhost:8080/",
     "height": 51
    },
    "id": "UZ63_lLfwEzg",
    "outputId": "347b5f45-5ed8-43d5-8a4d-d215909bd66d"
   },
   "outputs": [
    {
     "name": "stdout",
     "output_type": "stream",
     "text": [
      "(1024, 20) (1024, 20) (1024, 20)\n",
      "(1024, 20) (1024, 20) (1024, 20)\n"
     ]
    }
   ],
   "source": [
    "train_dataset = Dataset(train, tknizer_ita, tknizer_eng, 20)\n",
    "test_dataset  = Dataset(validation, tknizer_ita, tknizer_eng, 20)\n",
    "\n",
    "train_dataloader = Dataloader(train_dataset, batch_size=GLOBAL_BATCH_SIZE)\n",
    "test_dataloader = Dataloader(test_dataset, batch_size=GLOBAL_BATCH_SIZE)\n",
    "\n",
    "print(train_dataloader[0][0][0].shape, train_dataloader[0][0][1].shape, train_dataloader[0][1].shape)\n",
    "print(test_dataloader[0][0][0].shape, test_dataloader[0][0][1].shape, test_dataloader[0][1].shape)"
   ]
  },
  {
   "cell_type": "markdown",
   "metadata": {
    "id": "wqtZUQF2NuZE"
   },
   "source": [
    "Implement dot function here."
   ]
  },
  {
   "cell_type": "code",
   "execution_count": null,
   "metadata": {
    "colab": {
     "base_uri": "https://localhost:8080/",
     "height": 34
    },
    "id": "02HERHmBPxrn",
    "outputId": "7e9ab75b-c11d-4ecf-fc27-2b2dad60664b"
   },
   "outputs": [
    {
     "name": "stdout",
     "output_type": "stream",
     "text": [
      "WARNING:tensorflow:`write_grads` will be ignored in TensorFlow 2.0 for the `TensorBoard` Callback.\n"
     ]
    }
   ],
   "source": [
    "from tensorflow.keras.callbacks import Callback\n",
    "import datetime\n",
    "%load_ext tensorboard\n",
    "\n",
    "log_dir=\"/content/drive/My Drive/Colab Notebooks/NLP Attention Mechanism/logs/dot/\" + datetime.datetime.now().strftime(\"%Y%m%d-%H%M%S\")\n",
    "tensorboard_callback = tf.keras.callbacks.TensorBoard(log_dir=log_dir, histogram_freq=1, write_graph=True, write_grads=True)"
   ]
  },
  {
   "cell_type": "code",
   "execution_count": null,
   "metadata": {
    "id": "aKAKkUxORPtq"
   },
   "outputs": [],
   "source": [
    "from tensorflow.keras.callbacks import ReduceLROnPlateau\n",
    "# https://stackoverflow.com/a/42963385/7697658\n",
    "lrschedule_cond_1 = ReduceLROnPlateau(monitor='val_loss', patience=2, verbose=1, factor=0.50)"
   ]
  },
  {
   "cell_type": "code",
   "execution_count": null,
   "metadata": {
    "colab": {
     "base_uri": "https://localhost:8080/",
     "height": 34
    },
    "id": "T5w5ds2CHbYL",
    "outputId": "18253cbe-80a6-4b54-885d-1540a43d83a7"
   },
   "outputs": [
    {
     "data": {
      "text/plain": [
       "(272866, 3)"
      ]
     },
     "execution_count": 31,
     "metadata": {
      "tags": []
     },
     "output_type": "execute_result"
    }
   ],
   "source": [
    "train.shape"
   ]
  },
  {
   "cell_type": "code",
   "execution_count": null,
   "metadata": {
    "colab": {
     "base_uri": "https://localhost:8080/",
     "height": 666
    },
    "id": "9yYMwmnitD7b",
    "outputId": "caba7750-09bb-43e0-c603-32e06e49d3c5"
   },
   "outputs": [
    {
     "name": "stderr",
     "output_type": "stream",
     "text": [
      "/usr/local/lib/python3.6/dist-packages/tensorflow/python/data/ops/dataset_ops.py:3350: UserWarning: Even though the tf.config.experimental_run_functions_eagerly option is set, this option does not apply to tf.data functions. tf.data functions are still traced and executed as graphs.\n",
      "  \"Even though the tf.config.experimental_run_functions_eagerly \"\n"
     ]
    },
    {
     "name": "stdout",
     "output_type": "stream",
     "text": [
      "Epoch 1/10\n",
      "  1/266 [..............................] - ETA: 0s - loss: 3.7225WARNING:tensorflow:From /usr/local/lib/python3.6/dist-packages/tensorflow/python/ops/summary_ops_v2.py:1277: stop (from tensorflow.python.eager.profiler) is deprecated and will be removed after 2020-07-01.\n",
      "Instructions for updating:\n",
      "use `tf.profiler.experimental.stop` instead.\n",
      "266/266 [==============================] - 194s 731ms/step - loss: 1.4565 - val_loss: 0.9742\n",
      "Epoch 2/10\n",
      "266/266 [==============================] - 194s 728ms/step - loss: 0.7080 - val_loss: 0.4489\n",
      "Epoch 3/10\n",
      "266/266 [==============================] - 192s 720ms/step - loss: 0.3728 - val_loss: 0.2589\n",
      "Epoch 4/10\n",
      "266/266 [==============================] - 192s 723ms/step - loss: 0.2416 - val_loss: 0.1791\n",
      "Epoch 5/10\n",
      "266/266 [==============================] - 194s 730ms/step - loss: 0.1795 - val_loss: 0.1379\n",
      "Epoch 6/10\n",
      "266/266 [==============================] - 193s 725ms/step - loss: 0.1435 - val_loss: 0.1138\n",
      "Epoch 7/10\n",
      "266/266 [==============================] - 192s 723ms/step - loss: 0.1207 - val_loss: 0.0985\n",
      "Epoch 8/10\n",
      "266/266 [==============================] - 193s 725ms/step - loss: 0.1047 - val_loss: 0.0847\n",
      "Epoch 9/10\n",
      "266/266 [==============================] - 190s 714ms/step - loss: 0.0928 - val_loss: 0.0753\n",
      "Epoch 10/10\n",
      "266/266 [==============================] - 191s 716ms/step - loss: 0.0847 - val_loss: 0.0702\n",
      "Model: \"encoder_decoder\"\n",
      "_________________________________________________________________\n",
      "Layer (type)                 Output Shape              Param #   \n",
      "=================================================================\n",
      "encoder (Encoder)            multiple                  2972968   \n",
      "_________________________________________________________________\n",
      "decoder (Decoder)            multiple                  5114488   \n",
      "=================================================================\n",
      "Total params: 8,087,456\n",
      "Trainable params: 6,830,656\n",
      "Non-trainable params: 1,256,800\n",
      "_________________________________________________________________\n"
     ]
    }
   ],
   "source": [
    "# Create an object of encoder_decoder Model class, \n",
    "# Compile the model and fit the model\n",
    "\n",
    "model_attention = encoder_decoder(vocab_size_ita, vocab_size_eng, encoder_inputs_length=20, decoder_inputs_length=20, embedding_dim=100, score_fun='dot', att_units=256)\n",
    "opt = tf.keras.optimizers.Adam(learning_rate=0.01)\n",
    "model_attention.compile(optimizer=opt, loss=loss_function)\n",
    "train_steps=train.shape[0]//GLOBAL_BATCH_SIZE\n",
    "valid_steps=validation.shape[0]//GLOBAL_BATCH_SIZE\n",
    "model_attention.fit(train_dataloader, steps_per_epoch=train_steps, epochs=10, validation_data=train_dataloader, validation_steps=valid_steps, callbacks=[lrschedule_cond_1, tensorboard_callback])\n",
    "model_attention.summary()\n",
    "\n",
    "#save_model_path = \"/content/drive/My Drive/Colab Notebooks/NLP Attention Mechanism/New Attention Mech/Model_Best_Dot/BEST_MODEL_ED.h5\"\n",
    "#model_attention.save_weights(save_model_path, save_format='tf')"
   ]
  },
  {
   "cell_type": "markdown",
   "metadata": {
    "id": "6DpC9zlzMcXp"
   },
   "source": [
    "## <font color='blue'>**Inference**</font>"
   ]
  },
  {
   "cell_type": "markdown",
   "metadata": {
    "id": "e1IhdBrgQYJr"
   },
   "source": [
    "<font color='blue'>**Predict the sentence translation**</font>"
   ]
  },
  {
   "cell_type": "code",
   "execution_count": null,
   "metadata": {
    "id": "Oq64i9pxx11U"
   },
   "outputs": [],
   "source": [
    "def predict(input_sentence, model_ed, tknizer_ita, tknizer_eng):\n",
    "    '''\n",
    "        A. Given input sentence, convert the sentence into integers using tokenizer used earlier\n",
    "        B. Pass the input_sequence to encoder. we get encoder_outputs, last time step hidden and cell state\n",
    "        C. Initialize index of <start> as input to decoder. and encoder final states as input_states to onestepdecoder.\n",
    "        D. till we reach max_length of decoder or till the model predicted word <end>:\n",
    "                predictions, input_states, attention_weights = model.layers[1].onestepdecoder(input_to_decoder, encoder_output, input_states)\n",
    "                Save the attention weights\n",
    "                And get the word using the tokenizer(word index) and then store it in a string.\n",
    "        E. Call plot_attention(#params)\n",
    "        F. Return the predicted sentence\n",
    "    '''\n",
    "    ita_seq = tknizer_ita.texts_to_sequences([input_sentence])\n",
    "    initial_state = model_ed.layers[0].initialize_states(batch_size=1)\n",
    "    enc_output, state_h, state_c = model_ed.layers[0](np.array(ita_seq), initial_state)\n",
    "    attention_weights_lst = []  #attention weights for each timestep in one step decoder\n",
    "    pred_indexes = []\n",
    "    predicted_sentence=''\n",
    "    cur_vec = np.array(tknizer_eng.word_index['<start>']).reshape((1,1))\n",
    "    cur_vec = tf.convert_to_tensor(cur_vec)\n",
    "    for i in range(20):\n",
    "        output, state_h, state_c, attention_weights, context_vector = model_ed.layers[1].one_step_decoder(cur_vec, enc_output, state_h, state_c)\n",
    "        attention_weights_lst.append(attention_weights)\n",
    "        word_index = np.argmax(output)\n",
    "        cur_vec = np.reshape(word_index, (1,1))\n",
    "        for k, v in tknizer_eng.word_index.items():\n",
    "            if v == word_index:\n",
    "                predicted_sentence += k +' '\n",
    "                break\n",
    "\n",
    "        if k =='<end>':\n",
    "            pred_indexes.append(word_index)\n",
    "            return pred_indexes, predicted_sentence, np.array(attention_weights_lst).squeeze(axis=1).squeeze(axis=2)\n",
    "\n",
    "        pred_indexes.append(word_index)\n",
    "    return pred_indexes, predicted_sentence, np.array(attention_weights_lst).squeeze(axis=1).squeeze(axis=2)"
   ]
  },
  {
   "cell_type": "code",
   "execution_count": null,
   "metadata": {
    "colab": {
     "base_uri": "https://localhost:8080/",
     "height": 34
    },
    "id": "Wdj4lWlQx11a",
    "outputId": "d0d67684-abc3-4187-ad37-f5106ce8f774"
   },
   "outputs": [
    {
     "name": "stdout",
     "output_type": "stream",
     "text": [
      "i did not drink too much . <end> \n"
     ]
    }
   ],
   "source": [
    "input_sent = \"non ho bevuto troppo\"\n",
    "pred_tokens, predicted_sentence, all_attention_weights = predict(input_sent, model_attention, tknizer_ita, tknizer_eng)\n",
    "print(predicted_sentence)"
   ]
  },
  {
   "cell_type": "code",
   "execution_count": null,
   "metadata": {
    "colab": {
     "base_uri": "https://localhost:8080/",
     "height": 34
    },
    "id": "Bkeyeuvz4qPU",
    "outputId": "5eb71745-69dd-40db-cfbe-bddd81b0b572"
   },
   "outputs": [
    {
     "data": {
      "text/plain": [
       "(8, 4)"
      ]
     },
     "execution_count": 35,
     "metadata": {
      "tags": []
     },
     "output_type": "execute_result"
    }
   ],
   "source": [
    "all_attention_weights.shape"
   ]
  },
  {
   "cell_type": "markdown",
   "metadata": {
    "id": "Z5NhESYyMW_t"
   },
   "source": [
    "<font color='blue'>**Plot attention weights**</font>"
   ]
  },
  {
   "cell_type": "code",
   "execution_count": null,
   "metadata": {
    "id": "UyNQH7uPm4-8"
   },
   "outputs": [],
   "source": [
    "#Refer: https://www.tensorflow.org/tutorials/text/nmt_with_attention#translate\n",
    "def plot_attention(attention, sentence, predicted_sentence):\n",
    "    fig = plt.figure(figsize=(10,10))\n",
    "    ax = fig.add_subplot(1, 1, 1)\n",
    "    ax.matshow(attention, cmap='viridis')\n",
    "\n",
    "    fontdict = {'fontsize': 14}\n",
    "\n",
    "    ax.set_xticklabels([''] + sentence, fontdict=fontdict, rotation=90)\n",
    "    ax.set_yticklabels([''] + predicted_sentence, fontdict=fontdict)\n",
    "\n",
    "    ax.xaxis.set_major_locator(ticker.MultipleLocator(1))\n",
    "    ax.yaxis.set_major_locator(ticker.MultipleLocator(1))\n",
    "\n",
    "    plt.show()"
   ]
  },
  {
   "cell_type": "code",
   "execution_count": null,
   "metadata": {
    "colab": {
     "base_uri": "https://localhost:8080/",
     "height": 634
    },
    "id": "dOTjYasR6HFs",
    "outputId": "264e1486-85c2-499a-c167-35747cfefdc0"
   },
   "outputs": [
    {
     "data": {
      "image/png": "[encoded data removed]",
      "text/plain": [
       "<Figure size 720x720 with 1 Axes>"
      ]
     },
     "metadata": {
      "needs_background": "light",
      "tags": []
     },
     "output_type": "display_data"
    }
   ],
   "source": [
    "plot_attention(all_attention_weights,  input_sent.split(' '), predicted_sentence.split(' '))"
   ]
  },
  {
   "cell_type": "markdown",
   "metadata": {
    "id": "jmxIVOOQPWMu"
   },
   "source": [
    "<font color='blue'>**Calculate BLEU score**</font>"
   ]
  },
  {
   "cell_type": "code",
   "execution_count": null,
   "metadata": {
    "id": "fdUWIGkdE1qu"
   },
   "outputs": [],
   "source": [
    "import nltk.translate.bleu_score as bleu\n",
    "def calculate_bleu(model, tknizer_ita, tknizer_eng):\n",
    "    bleu_scores = []\n",
    "    thousand_samples = data.sample(1000)\n",
    "    thousand_samples = thousand_samples[['italian','english_out']]\n",
    "    for input_sent, reference in thousand_samples.values:\n",
    "        pred_tokens, predicted_sentence, all_attention_weights = predict(input_sent, model, tknizer_ita, tknizer_eng)\n",
    "        reference = reference.split() # the original, from the dataframe\n",
    "        translation = predicted_sentence.split() # traslated using model\n",
    "        bleu_scores.append(bleu.sentence_bleu(reference, translation))\n",
    "    avg_bleu_score = np.mean(bleu_scores)\n",
    "    return avg_bleu_score"
   ]
  },
  {
   "cell_type": "code",
   "execution_count": null,
   "metadata": {
    "colab": {
     "base_uri": "https://localhost:8080/",
     "height": 102
    },
    "id": "UeC6tZl-Lrlf",
    "outputId": "dd087513-eb52-4a90-dfc4-536c83b6b930"
   },
   "outputs": [
    {
     "name": "stderr",
     "output_type": "stream",
     "text": [
      "/usr/local/lib/python3.6/dist-packages/nltk/translate/bleu_score.py:490: UserWarning: \n",
      "Corpus/Sentence contains 0 counts of 2-gram overlaps.\n",
      "BLEU scores might be undesirable; use SmoothingFunction().\n",
      "  warnings.warn(_msg)\n"
     ]
    },
    {
     "name": "stdout",
     "output_type": "stream",
     "text": [
      "Avg Bleu Score 'Dot'= 0.6302854734438311\n"
     ]
    }
   ],
   "source": [
    "print(\"Avg Bleu Score 'Dot'=\",calculate_bleu(model_attention, tknizer_ita, tknizer_eng))"
   ]
  },
  {
   "cell_type": "markdown",
   "metadata": {
    "id": "SWg2ferDQvT3"
   },
   "source": [
    "<font color='blue'>**Repeat the same steps for General scoring function**</font>"
   ]
  },
  {
   "cell_type": "code",
   "execution_count": null,
   "metadata": {
    "colab": {
     "base_uri": "https://localhost:8080/",
     "height": 68
    },
    "id": "0Kpmn-j5EWra",
    "outputId": "659a5256-dacb-4fc4-993a-919a8e308b63"
   },
   "outputs": [
    {
     "name": "stdout",
     "output_type": "stream",
     "text": [
      "The tensorboard extension is already loaded. To reload it, use:\n",
      "  %reload_ext tensorboard\n",
      "WARNING:tensorflow:`write_grads` will be ignored in TensorFlow 2.0 for the `TensorBoard` Callback.\n"
     ]
    }
   ],
   "source": [
    "from tensorflow.keras.callbacks import Callback\n",
    "import datetime\n",
    "%load_ext tensorboard\n",
    "\n",
    "log_dir=\"/content/drive/My Drive/Colab Notebooks/NLP Attention Mechanism/logs/general/\" + datetime.datetime.now().strftime(\"%Y%m%d-%H%M%S\")\n",
    "tensorboard_callback = tf.keras.callbacks.TensorBoard(log_dir=log_dir, histogram_freq=1, write_graph=True, write_grads=True)"
   ]
  },
  {
   "cell_type": "code",
   "execution_count": null,
   "metadata": {
    "colab": {
     "base_uri": "https://localhost:8080/",
     "height": 666
    },
    "id": "gsBUy8VIEWrf",
    "outputId": "68170cb1-484f-481b-cea9-43ded24d5ef3"
   },
   "outputs": [
    {
     "name": "stderr",
     "output_type": "stream",
     "text": [
      "/usr/local/lib/python3.6/dist-packages/tensorflow/python/data/ops/dataset_ops.py:3350: UserWarning: Even though the tf.config.experimental_run_functions_eagerly option is set, this option does not apply to tf.data functions. tf.data functions are still traced and executed as graphs.\n",
      "  \"Even though the tf.config.experimental_run_functions_eagerly \"\n"
     ]
    },
    {
     "name": "stdout",
     "output_type": "stream",
     "text": [
      "Epoch 1/10\n",
      "  1/266 [..............................] - ETA: 0s - loss: 3.7379WARNING:tensorflow:From /usr/local/lib/python3.6/dist-packages/tensorflow/python/ops/summary_ops_v2.py:1277: stop (from tensorflow.python.eager.profiler) is deprecated and will be removed after 2020-07-01.\n",
      "Instructions for updating:\n",
      "use `tf.profiler.experimental.stop` instead.\n",
      "266/266 [==============================] - 226s 851ms/step - loss: 1.5086 - val_loss: 1.0848\n",
      "Epoch 2/10\n",
      "266/266 [==============================] - 225s 845ms/step - loss: 0.8020 - val_loss: 0.5145\n",
      "Epoch 3/10\n",
      "266/266 [==============================] - 224s 843ms/step - loss: 0.4074 - val_loss: 0.2748\n",
      "Epoch 4/10\n",
      "266/266 [==============================] - 226s 850ms/step - loss: 0.2539 - val_loss: 0.1899\n",
      "Epoch 5/10\n",
      "266/266 [==============================] - 226s 848ms/step - loss: 0.1851 - val_loss: 0.1398\n",
      "Epoch 6/10\n",
      "266/266 [==============================] - 224s 842ms/step - loss: 0.1457 - val_loss: 0.1164\n",
      "Epoch 7/10\n",
      "266/266 [==============================] - 224s 843ms/step - loss: 0.1224 - val_loss: 0.1007\n",
      "Epoch 8/10\n",
      "266/266 [==============================] - 225s 844ms/step - loss: 0.1063 - val_loss: 0.0866\n",
      "Epoch 9/10\n",
      "266/266 [==============================] - 224s 841ms/step - loss: 0.0944 - val_loss: 0.0785\n",
      "Epoch 10/10\n",
      "266/266 [==============================] - 224s 842ms/step - loss: 0.0857 - val_loss: 0.0708\n",
      "Model: \"encoder_decoder_3\"\n",
      "_________________________________________________________________\n",
      "Layer (type)                 Output Shape              Param #   \n",
      "=================================================================\n",
      "encoder_3 (Encoder)          multiple                  2974168   \n",
      "_________________________________________________________________\n",
      "decoder_3 (Decoder)          multiple                  5195018   \n",
      "=================================================================\n",
      "Total params: 8,169,186\n",
      "Trainable params: 6,908,186\n",
      "Non-trainable params: 1,261,000\n",
      "_________________________________________________________________\n"
     ]
    }
   ],
   "source": [
    "# Create an object of encoder_decoder Model class, \n",
    "# Compile the model and fit the model\n",
    "\n",
    "model_attention_gen = encoder_decoder(vocab_size_ita, vocab_size_eng, encoder_inputs_length=20, decoder_inputs_length=20, embedding_dim=100, score_fun='general', att_units=256)\n",
    "opt = tf.keras.optimizers.Adam(learning_rate=0.01)\n",
    "model_attention_gen.compile(optimizer=opt, loss=loss_function)\n",
    "train_steps=train.shape[0]//GLOBAL_BATCH_SIZE\n",
    "valid_steps=validation.shape[0]//GLOBAL_BATCH_SIZE\n",
    "model_attention_gen.fit(train_dataloader, steps_per_epoch=train_steps, epochs=10, validation_data=train_dataloader, validation_steps=valid_steps, callbacks=[tensorboard_callback])\n",
    "model_attention_gen.summary()\n",
    "\n",
    "#save_model_path = \"/content/drive/My Drive/Colab Notebooks/NLP Attention Mechanism/New Attention Mech/Model_Best_Dot/BEST_MODEL_ED\"\n",
    "#model_attention_gen.save_weights(save_model_path, save_format='tf')"
   ]
  },
  {
   "cell_type": "code",
   "execution_count": null,
   "metadata": {
    "colab": {
     "base_uri": "https://localhost:8080/",
     "height": 34
    },
    "id": "8zn6T2jlErpA",
    "outputId": "c9ab93ca-3b80-4d18-8e5f-88d8a15dd19f"
   },
   "outputs": [
    {
     "name": "stdout",
     "output_type": "stream",
     "text": [
      "i did not drink too much . <end> \n"
     ]
    }
   ],
   "source": [
    "input_sent = \"non ho bevuto troppo\"\n",
    "pred_tokens, predicted_sentence, all_attention_weights = predict(input_sent, model_attention_gen, tknizer_ita, tknizer_eng)\n",
    "print(predicted_sentence)"
   ]
  },
  {
   "cell_type": "code",
   "execution_count": null,
   "metadata": {
    "colab": {
     "base_uri": "https://localhost:8080/",
     "height": 634
    },
    "id": "wUim-tlRExDl",
    "outputId": "4065e2ab-ad7f-47b7-e9d1-a86ef6e2dc18"
   },
   "outputs": [
    {
     "data": {
      "image/png": "[encoded data removed]",
      "text/plain": [
       "<Figure size 720x720 with 1 Axes>"
      ]
     },
     "metadata": {
      "needs_background": "light",
      "tags": []
     },
     "output_type": "display_data"
    }
   ],
   "source": [
    "plot_attention(all_attention_weights,  input_sent.split(' '), predicted_sentence.split(' '))"
   ]
  },
  {
   "cell_type": "code",
   "execution_count": null,
   "metadata": {
    "id": "B0Ys7WtftCQp"
   },
   "outputs": [],
   "source": [
    "!zip -r logs.zip logs"
   ]
  },
  {
   "cell_type": "code",
   "execution_count": null,
   "metadata": {
    "colab": {
     "base_uri": "https://localhost:8080/",
     "height": 102
    },
    "id": "Bvkr4WKNExvb",
    "outputId": "97290f5c-53b7-44d2-a68f-850f670a0295"
   },
   "outputs": [
    {
     "name": "stderr",
     "output_type": "stream",
     "text": [
      "/usr/local/lib/python3.6/dist-packages/nltk/translate/bleu_score.py:490: UserWarning: \n",
      "Corpus/Sentence contains 0 counts of 2-gram overlaps.\n",
      "BLEU scores might be undesirable; use SmoothingFunction().\n",
      "  warnings.warn(_msg)\n"
     ]
    },
    {
     "name": "stdout",
     "output_type": "stream",
     "text": [
      "Avg Bleu Score 'General'= 0.6367642238033103\n"
     ]
    }
   ],
   "source": [
    "print(\"Avg Bleu Score 'General'=\",calculate_bleu(model_attention_gen, tknizer_ita, tknizer_eng))"
   ]
  },
  {
   "cell_type": "markdown",
   "metadata": {
    "id": "VB1jRUqZQ9AM"
   },
   "source": [
    "<font color='blue'>**Repeat the same steps for Concat scoring function**</font>"
   ]
  },
  {
   "cell_type": "code",
   "execution_count": null,
   "metadata": {
    "colab": {
     "base_uri": "https://localhost:8080/",
     "height": 34
    },
    "id": "zsAGKdjhGKlS",
    "outputId": "3396cd29-576b-42f2-924b-225193ac8bc6"
   },
   "outputs": [
    {
     "name": "stdout",
     "output_type": "stream",
     "text": [
      "WARNING:tensorflow:`write_grads` will be ignored in TensorFlow 2.0 for the `TensorBoard` Callback.\n"
     ]
    }
   ],
   "source": [
    "from tensorflow.keras.callbacks import Callback\n",
    "import datetime\n",
    "%load_ext tensorboard\n",
    "\n",
    "log_dir=\"/content/drive/My Drive/Colab Notebooks/NLP Attention Mechanism/logs/concat/\" + datetime.datetime.now().strftime(\"%Y%m%d-%H%M%S\")\n",
    "tensorboard_callback = tf.keras.callbacks.TensorBoard(log_dir=log_dir, histogram_freq=1, write_graph=True, write_grads=True)"
   ]
  },
  {
   "cell_type": "code",
   "execution_count": null,
   "metadata": {
    "colab": {
     "base_uri": "https://localhost:8080/",
     "height": 666
    },
    "id": "VFA7zdWRGKld",
    "outputId": "1d92b455-a9c3-463e-f844-5fe54efde4fd"
   },
   "outputs": [
    {
     "name": "stderr",
     "output_type": "stream",
     "text": [
      "/usr/local/lib/python3.6/dist-packages/tensorflow/python/data/ops/dataset_ops.py:3350: UserWarning: Even though the tf.config.experimental_run_functions_eagerly option is set, this option does not apply to tf.data functions. tf.data functions are still traced and executed as graphs.\n",
      "  \"Even though the tf.config.experimental_run_functions_eagerly \"\n"
     ]
    },
    {
     "name": "stdout",
     "output_type": "stream",
     "text": [
      "Epoch 1/10\n",
      "  1/266 [..............................] - ETA: 0s - loss: 3.7388WARNING:tensorflow:From /usr/local/lib/python3.6/dist-packages/tensorflow/python/ops/summary_ops_v2.py:1277: stop (from tensorflow.python.eager.profiler) is deprecated and will be removed after 2020-07-01.\n",
      "Instructions for updating:\n",
      "use `tf.profiler.experimental.stop` instead.\n",
      "266/266 [==============================] - 223s 840ms/step - loss: 1.5059 - val_loss: 1.0771\n",
      "Epoch 2/10\n",
      "266/266 [==============================] - 221s 831ms/step - loss: 0.8084 - val_loss: 0.5478\n",
      "Epoch 3/10\n",
      "266/266 [==============================] - 220s 826ms/step - loss: 0.4414 - val_loss: 0.3126\n",
      "Epoch 4/10\n",
      "266/266 [==============================] - 219s 824ms/step - loss: 0.2892 - val_loss: 0.2203\n",
      "Epoch 5/10\n",
      "266/266 [==============================] - 219s 821ms/step - loss: 0.2160 - val_loss: 0.1697\n",
      "Epoch 6/10\n",
      "266/266 [==============================] - 218s 820ms/step - loss: 0.1731 - val_loss: 0.1404\n",
      "Epoch 7/10\n",
      "266/266 [==============================] - 218s 820ms/step - loss: 0.1443 - val_loss: 0.1158\n",
      "Epoch 8/10\n",
      "266/266 [==============================] - 218s 821ms/step - loss: 0.1239 - val_loss: 0.1024\n",
      "Epoch 9/10\n",
      "266/266 [==============================] - 218s 820ms/step - loss: 0.1096 - val_loss: 0.0877\n",
      "Epoch 10/10\n",
      "266/266 [==============================] - 218s 820ms/step - loss: 0.0982 - val_loss: 0.0809\n",
      "Model: \"encoder_decoder_1\"\n",
      "_________________________________________________________________\n",
      "Layer (type)                 Output Shape              Param #   \n",
      "=================================================================\n",
      "encoder_1 (Encoder)          multiple                  2976468   \n",
      "_________________________________________________________________\n",
      "decoder_1 (Decoder)          multiple                  5206213   \n",
      "=================================================================\n",
      "Total params: 8,182,681\n",
      "Trainable params: 6,918,581\n",
      "Non-trainable params: 1,264,100\n",
      "_________________________________________________________________\n"
     ]
    }
   ],
   "source": [
    "# Create an object of encoder_decoder Model class, \n",
    "# Compile the model and fit the model\n",
    "\n",
    "model_attention_concat = encoder_decoder(vocab_size_ita, vocab_size_eng, encoder_inputs_length=20, decoder_inputs_length=20, embedding_dim=100, score_fun='concat', att_units=256)\n",
    "opt = tf.keras.optimizers.Adam(learning_rate=0.01)\n",
    "model_attention_concat.compile(optimizer=opt, loss=loss_function)\n",
    "train_steps=train.shape[0]//GLOBAL_BATCH_SIZE\n",
    "valid_steps=validation.shape[0]//GLOBAL_BATCH_SIZE\n",
    "model_attention_concat.fit(train_dataloader, steps_per_epoch=train_steps, epochs=10, validation_data=train_dataloader, validation_steps=valid_steps, callbacks=[tensorboard_callback])\n",
    "model_attention_concat.summary()\n",
    "\n",
    "#save_model_path = \"/content/drive/My Drive/Colab Notebooks/NLP Attention Mechanism/New Attention Mech/Model_Best_Concat/BEST_MODEL_ED\"\n",
    "#model_attention.save_weights(save_model_path, save_format='tf')"
   ]
  },
  {
   "cell_type": "code",
   "execution_count": null,
   "metadata": {
    "colab": {
     "base_uri": "https://localhost:8080/",
     "height": 34
    },
    "id": "wCr4ZIgFGKlj",
    "outputId": "d382bf25-9578-4b2e-803e-910acfb9023b"
   },
   "outputs": [
    {
     "name": "stdout",
     "output_type": "stream",
     "text": [
      "i did not too drunk . <end> \n"
     ]
    }
   ],
   "source": [
    "input_sent = \"non ho bevuto troppo\"\n",
    "pred_tokens, predicted_sentence, all_attention_weights = predict(input_sent, model_attention_concat, tknizer_ita, tknizer_eng)\n",
    "print(predicted_sentence)"
   ]
  },
  {
   "cell_type": "code",
   "execution_count": null,
   "metadata": {
    "colab": {
     "base_uri": "https://localhost:8080/",
     "height": 634
    },
    "id": "tRChSRtiGKlo",
    "outputId": "d05705c3-d988-4220-d735-bde88b4e3ce5"
   },
   "outputs": [
    {
     "data": {
      "image/png": "[encoded data removed]",
      "text/plain": [
       "<Figure size 720x720 with 1 Axes>"
      ]
     },
     "metadata": {
      "needs_background": "light",
      "tags": []
     },
     "output_type": "display_data"
    }
   ],
   "source": [
    "plot_attention(all_attention_weights,  input_sent.split(' '), predicted_sentence.split(' '))"
   ]
  },
  {
   "cell_type": "code",
   "execution_count": null,
   "metadata": {
    "colab": {
     "base_uri": "https://localhost:8080/",
     "height": 102
    },
    "id": "0_yHHTstGKls",
    "outputId": "6b85ddc0-df4d-4c06-d571-f0061a965930"
   },
   "outputs": [
    {
     "name": "stderr",
     "output_type": "stream",
     "text": [
      "/usr/local/lib/python3.6/dist-packages/nltk/translate/bleu_score.py:490: UserWarning: \n",
      "Corpus/Sentence contains 0 counts of 2-gram overlaps.\n",
      "BLEU scores might be undesirable; use SmoothingFunction().\n",
      "  warnings.warn(_msg)\n"
     ]
    },
    {
     "name": "stdout",
     "output_type": "stream",
     "text": [
      "Avg Bleu Score 'Concat'= 0.6070069372989185\n"
     ]
    }
   ],
   "source": [
    "print(\"Avg Bleu Score 'Concat'=\",calculate_bleu(model_attention_concat, tknizer_ita, tknizer_eng))"
   ]
  },
  {
   "cell_type": "markdown",
   "metadata": {
    "id": "HM7gPwR5Gqsd"
   },
   "source": [
    "### **<font color='purple'>Comparision of 3 models on Attention Mechanism</font>**"
   ]
  },
  {
   "cell_type": "markdown",
   "metadata": {
    "id": "PtWdD65TG1gm"
   },
   "source": [
    "<ul>\n",
    "<li>\n",
    "Here, Bahdanau's attention mechanism is implemented. Three scoring function of attentions are implemented here. The following are the observations on each of the scoring functions.\n",
    "    <ul>\n",
    "        <li><b>dot: </b> This function needs same number of lstm units in the encoder and the decoder. The <b>loss is 0.0702 & Bleu score is 0.6303</b></li>\n",
    "    </ul>\n",
    "    <ul>\n",
    "        <li><b>general: </b> This function can have different number of lstm units in the encoder and the decoder. We had to add a trainable weight matrix such that we can do a dot product on the encoder hidden states and the decoder hidden states. The <b>loss is 0.0708 & Bleu score is 0.6368</b></li>\n",
    "    </ul>\n",
    "    <ul>\n",
    "        <li><b>concat: </b> This function can also have different number of lstm units in the encoder and the decoder. We had to add three trainable weight matrices, where one will be multiplied with the encoder hidden states, secong will be multiplied with the decoder hidden states and the third one will be multiplied after applying tanh on the addition of first two multiplications. The <b>loss is 0.0809 & Bleu score is 0.6070</b></li>\n",
    "    </ul>\n",
    "</li>\n",
    "<li>Let's see what the attention plots of each scoring functions say.</li>\n",
    "    <ul>\n",
    "        <li><b>dot: </b> We can see that the dot function is focusing <b><i>bevuto</i></b> which means to drink, with the english words <b>did</b> and <b>drink</b></li>\n",
    "    </ul>\n",
    "    <ul>\n",
    "        <li><b>general: </b> We can see that the general function is also giving us similar results, as it is focusing on <b><i>bevuto</i></b> which means to drink, with the english words <b>did</b> and <b>drink</b>. We can observe that this scoring function is sharply giving attention to fewer words and not spreading it across the predicted words.</li>\n",
    "    </ul>\n",
    "    <ul>\n",
    "        <li><b>concat: </b> We can see that the concat function is focusing on <b><i>troppo</i></b> which means too much, with the english word <b>too</b>. The word <b><i>ho</i></b> which means 'I', is also giving attention on the english word <b>'I'</b> in the predicted sentence. We can observe that this scoring function is spreading it's attention to many words at a time, along with focusing more on the important words. However, we saw that this scoring function didn't predict the english word 'much'. This may be due to the spread of attention, that it couldn't give much attention to that word.</li>\n",
    "    </ul>\n",
    "</ul>\n",
    "<b>PS: </b> All the three models are trained on 10 epochs, so that a fair comparision can be made on the losses, bleu scores and the predicted sentences."
   ]
  }
 ],
 "metadata": {
  "accelerator": "GPU",
  "colab": {
   "collapsed_sections": [
    "QyfZo8fmLOec"
   ],
   "name": "Attention_Seq2SeqImplementation__Assignment.ipynb",
   "provenance": []
  },
  "kernelspec": {
   "display_name": "Python 3",
   "language": "python",
   "name": "python3"
  },
  "language_info": {
   "codemirror_mode": {
    "name": "ipython",
    "version": 3
   },
   "file_extension": ".py",
   "mimetype": "text/x-python",
   "name": "python",
   "nbconvert_exporter": "python",
   "pygments_lexer": "ipython3",
   "version": "3.7.4"
  }
 },
 "nbformat": 4,
 "nbformat_minor": 1
}
